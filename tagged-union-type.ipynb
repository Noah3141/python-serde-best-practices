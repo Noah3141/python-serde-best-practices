{
 "cells": [
  {
   "cell_type": "code",
   "execution_count": null,
   "metadata": {},
   "outputs": [],
   "source": [
    "from typing import Literal, TypedDict, Union\n",
    "import json\n",
    "\n",
    "Starfish = TypedDict(\"Starfish\", {\n",
    "    \"star_shaped\": Literal[True],\n",
    "    \"fins\": Literal[0],\n",
    "    \"name\": str,\n",
    "    \"on a rock\": bool\n",
    "})\n",
    "\n",
    "Jellyfish = TypedDict(\"Jellyfish\", {\n",
    "    \"star_shaped\": Literal[False],\n",
    "    \"fins\": Literal[None],\n",
    "    \"name\": str\n",
    "})\n",
    "\n",
    "Fish = TypedDict(\"Fish\", {\n",
    "    \"star_shaped\": Literal[False],\n",
    "    \"fins\": int,\n",
    "    \"name\": str\n",
    "})\n",
    "\n",
    "# Here, the `type | type` syntax could be used, but in the case of a tagged union it is more semantically explicit to wrap them as a singular unit\n",
    "SeaCreature = Union[Starfish, Jellyfish, Fish]\n",
    "\n",
    "json_obj = '''\n",
    "{\n",
    "    ...unknown\n",
    "}\n",
    "'''\n",
    "\n",
    "sea_creature: SeaCreature = json.loads(json_obj)\n",
    "\n",
    "if sea_creature[\"star_shaped\"] == True: #! Note that if you wrote `if sea_creature[\"star_shaped\"]: ` it wouldn't work!!!\n",
    "    fins = sea_creature[\"fins\"] # Known as `Literal[0]` 👍\n",
    "\n",
    "if sea_creature[\"star_shaped\"] == False:\n",
    "    fins = sea_creature['fins'] # Known as `int | None`, no suggestion for 'on a rock' 👍"
   ]
  }
 ],
 "metadata": {
  "language_info": {
   "name": "python"
  }
 },
 "nbformat": 4,
 "nbformat_minor": 2
}
